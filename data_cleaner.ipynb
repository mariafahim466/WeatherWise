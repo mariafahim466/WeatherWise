{
 "cells": [
  {
   "cell_type": "code",
   "execution_count": 2,
   "id": "cb542ba0",
   "metadata": {},
   "outputs": [],
   "source": [
    "import pandas as pd \n",
    "from datetime import datetime \n"
   ]
  },
  {
   "cell_type": "code",
   "execution_count": 3,
   "id": "d125f86f",
   "metadata": {},
   "outputs": [],
   "source": [
    "df = pd.read_csv(\"vancouver_weather.csv\")\n"
   ]
  },
  {
   "cell_type": "code",
   "execution_count": 4,
   "id": "63eae053",
   "metadata": {},
   "outputs": [
    {
     "data": {
      "text/plain": [
       "datetime           object\n",
       "type               object\n",
       "temp_C            float64\n",
       "condition          object\n",
       "humidity            int64\n",
       "wind_speed_m_s    float64\n",
       "dtype: object"
      ]
     },
     "execution_count": 4,
     "metadata": {},
     "output_type": "execute_result"
    }
   ],
   "source": [
    "df.dtypes\n"
   ]
  },
  {
   "cell_type": "code",
   "execution_count": 6,
   "id": "c6c23d7c",
   "metadata": {},
   "outputs": [],
   "source": [
    "df['datetime'] = pd.to_datetime(df['datetime'], errors='coerce')\n"
   ]
  }
 ],
 "metadata": {
  "kernelspec": {
   "display_name": "venv",
   "language": "python",
   "name": "python3"
  },
  "language_info": {
   "codemirror_mode": {
    "name": "ipython",
    "version": 3
   },
   "file_extension": ".py",
   "mimetype": "text/x-python",
   "name": "python",
   "nbconvert_exporter": "python",
   "pygments_lexer": "ipython3",
   "version": "3.13.7"
  }
 },
 "nbformat": 4,
 "nbformat_minor": 5
}
